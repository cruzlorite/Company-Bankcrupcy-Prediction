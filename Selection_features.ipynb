{
  "nbformat": 4,
  "nbformat_minor": 0,
  "metadata": {
    "colab": {
      "provenance": []
    },
    "kernelspec": {
      "name": "python3",
      "display_name": "Python 3"
    },
    "language_info": {
      "name": "python"
    }
  },
  "cells": [
    {
      "cell_type": "code",
      "source": [
        "from sklearn.feature_selection import RFECV\n",
        "from sklearn.model_selection import StratifiedKFold, train_test_split\n",
        "from sklearn.linear_model import LogisticRegression\n",
        "from sklearn.preprocessing import MinMaxScaler\n",
        "import csv\n",
        "\n",
        "import pandas as pd"
      ],
      "metadata": {
        "id": "fQK8UBdAlLi9"
      },
      "execution_count": 35,
      "outputs": []
    },
    {
      "cell_type": "code",
      "source": [
        "df = pd.read_csv(\"/data.csv\")"
      ],
      "metadata": {
        "id": "BrqLOs5NlKCc"
      },
      "execution_count": 15,
      "outputs": []
    },
    {
      "cell_type": "code",
      "source": [
        "y = df['Bankrupt?']\n",
        "X = df.drop(['Bankrupt?'], axis=1)\n",
        "\n",
        "X_norm = MinMaxScaler().fit_transform(X)"
      ],
      "metadata": {
        "id": "B7v_rJ7JoAtf"
      },
      "execution_count": 31,
      "outputs": []
    },
    {
      "cell_type": "code",
      "source": [
        "X_train, X_test, y_train, y_test = train_test_split(X, y, test_size=0.33, random_state=42)"
      ],
      "metadata": {
        "id": "nNM3Go8SnxIs"
      },
      "execution_count": 27,
      "outputs": []
    },
    {
      "cell_type": "code",
      "execution_count": null,
      "metadata": {
        "id": "GN7pj7qJA80w"
      },
      "outputs": [],
      "source": [
        "min_features_to_select = 50  # Minimum number of features to consider\n",
        "clf = LogisticRegression()\n",
        "cv = StratifiedKFold(5)\n",
        "\n",
        "rfecv = RFECV(\n",
        "    estimator=clf,\n",
        "    step=1,\n",
        "    cv=cv,\n",
        "    scoring=\"accuracy\",\n",
        "    min_features_to_select=min_features_to_select,\n",
        "    n_jobs=2,)\n",
        "rfecv.fit(X_norm, y)\n",
        "rfe_support = rfecv.get_support()\n",
        "rfe_feature = X.loc[:,rfe_support].columns.tolist()\n",
        "print(f\"Optimal number of features: {rfecv.n_features_}\")"
      ]
    },
    {
      "cell_type": "code",
      "source": [
        "rfe_support = rfecv.get_support()\n",
        "rfe_feature = X.loc[:,rfe_support].columns.tolist()\n"
      ],
      "metadata": {
        "id": "64_c8DE1qpMb"
      },
      "execution_count": 33,
      "outputs": []
    },
    {
      "cell_type": "code",
      "source": [
        "with open('/featuresPython.csv', 'w') as f:\n",
        "    # using csv.writer method from CSV package\n",
        "    write = csv.writer(f)\n",
        "    write.writerows(rfe_feature)"
      ],
      "metadata": {
        "id": "AZpCHC6tq7Vv"
      },
      "execution_count": 39,
      "outputs": []
    }
  ]
}